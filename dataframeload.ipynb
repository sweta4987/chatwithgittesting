{
 "cells": [
  {
   "cell_type": "code",
   "execution_count": null,
   "metadata": {},
   "outputs": [],
   "source": [
    "import pandas as pd\n",
    "import matplotlib.pyplot as plt\n"
   ]
  },
  {
   "cell_type": "code",
   "execution_count": null,
   "metadata": {},
   "outputs": [],
   "source": [
    "\n",
    "filename=r'C:\\Users\\Ron\\Desktop\\sweta_sold.csv'\n",
    "\n",
    "#load csv file into dataframe\n",
    "def sweloadcsvfile(filename):\n",
    "    df = pd.read_csv(filename)\n",
    "    return df\n",
    "#load excel file into dataframe\n",
    "def sweloadexcelfile(filename):\n",
    "    df = pd.read_excel(filename)\n",
    "    return df\n",
    "\n"
   ]
  },
  {
   "cell_type": "code",
   "execution_count": null,
   "metadata": {},
   "outputs": [],
   "source": [
    "#plot pie chart using dataframe\n",
    "def sweplotpiechart(df):\n",
    "    value1 = df['value1'].sum()\n",
    "    value2 = df['value2'].sum()\n",
    "    value3 = df['value3'].sum()\n",
    "    my_data = [value1, value2, value3, ...]\n",
    "    my_labels = 'label1', 'label2', 'label3', ...\n",
    "    plt.pie(my_data, labels=my_labels, autopct='%1.1f%%')\n",
    "    plt.title('My Title')\n",
    "    plt.axis('equal')\n",
    "    plt.show()"
   ]
  },
  {
   "cell_type": "code",
   "execution_count": null,
   "metadata": {},
   "outputs": [],
   "source": []
  }
 ],
 "metadata": {
  "kernelspec": {
   "display_name": "base",
   "language": "python",
   "name": "python3"
  },
  "language_info": {
   "name": "python",
   "version": "3.11.3"
  },
  "orig_nbformat": 4
 },
 "nbformat": 4,
 "nbformat_minor": 2
}
